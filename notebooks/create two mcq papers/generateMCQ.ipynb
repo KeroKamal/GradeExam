{
 "cells": [
  {
   "cell_type": "code",
   "execution_count": null,
   "metadata": {},
   "outputs": [],
   "source": [
    "import cv2\n",
    "import numpy as np\n",
    "import random\n",
    "\n",
    "def create_mcq_bubble_sheet(bubble_dict, output_path, num_questions=10, image_width=600, margin=50):\n",
    "    vertical_gap = 60\n",
    "    bubble_radius = 20\n",
    "    inner_radius = bubble_radius - 5\n",
    "    horizontal_gap = 100\n",
    "    start_x = margin + 50\n",
    "    header_gap = vertical_gap\n",
    "    start_y = margin + header_gap\n",
    "    image_height = margin + header_gap + num_questions * vertical_gap + margin\n",
    "    img = np.ones((image_height, image_width, 3), dtype=np.uint8) * 255\n",
    "    header_y = margin // 2 + 20\n",
    "    for idx, option in enumerate([\"A\", \"B\", \"C\", \"D\"]):\n",
    "        x = start_x + idx * horizontal_gap\n",
    "        (text_width, text_height), _ = cv2.getTextSize(option, cv2.FONT_HERSHEY_SIMPLEX, 0.8, 2)\n",
    "        text_x = x - text_width // 2\n",
    "        cv2.putText(img, option, (text_x, header_y), cv2.FONT_HERSHEY_SIMPLEX, 0.8, (0, 0, 0), 2)\n",
    "    question_x = max(0, margin - 30)\n",
    "    for q in range(1, num_questions + 1):\n",
    "        y = start_y + (q - 1) * vertical_gap\n",
    "        cv2.putText(img, f\"{q}.\", (question_x, y + 5), cv2.FONT_HERSHEY_SIMPLEX, 0.8, (0, 0, 0), 2)\n",
    "        for idx, option in enumerate([\"A\", \"B\", \"C\", \"D\"]):\n",
    "            x = start_x + idx * horizontal_gap\n",
    "            center = (x, y)\n",
    "            cv2.circle(img, center, bubble_radius, (0, 0, 0), 2)\n",
    "            if bubble_dict.get(q, None) == option:\n",
    "                cv2.circle(img, center, inner_radius, (0, 0, 0), -1)\n",
    "    cv2.imwrite(output_path, img)\n",
    "    print(f\"MCQ bubble sheet saved to {output_path}\")\n",
    "\n",
    "if __name__ == '__main__':\n",
    "    num_questions = int(input(\"Enter the number of questions: \"))\n",
    "    options = [\"A\", \"B\", \"C\", \"D\"]\n",
    "    correct_answers = {}\n",
    "    for q in range(1, num_questions + 1):\n",
    "        correct_answers[q] = options[(q - 1) % len(options)]\n",
    "    student_answers = {}\n",
    "    for q in range(1, num_questions + 1):\n",
    "        correct = correct_answers[q]\n",
    "        if random.random() < 0.3:\n",
    "            wrong_options = [o for o in options if o != correct]\n",
    "            student_answers[q] = random.choice(wrong_options)\n",
    "        else:\n",
    "            student_answers[q] = correct\n",
    "    create_mcq_bubble_sheet(correct_answers, \"correct_mcq_sheet.png\", num_questions=num_questions, image_width=600, margin=50)\n",
    "    create_mcq_bubble_sheet(student_answers, \"student_mcq_sheet.png\", num_questions=num_questions, image_width=600, margin=50)\n"
   ]
  }
 ],
 "metadata": {
  "kernelspec": {
   "display_name": "gradesENV",
   "language": "python",
   "name": "python3"
  },
  "language_info": {
   "codemirror_mode": {
    "name": "ipython",
    "version": 3
   },
   "file_extension": ".py",
   "mimetype": "text/x-python",
   "name": "python",
   "nbconvert_exporter": "python",
   "pygments_lexer": "ipython3",
   "version": "3.9.0"
  }
 },
 "nbformat": 4,
 "nbformat_minor": 2
}
